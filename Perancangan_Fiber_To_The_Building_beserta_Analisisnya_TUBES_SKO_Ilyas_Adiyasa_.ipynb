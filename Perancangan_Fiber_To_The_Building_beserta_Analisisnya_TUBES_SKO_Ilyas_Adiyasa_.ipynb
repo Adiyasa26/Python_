{
  "nbformat": 4,
  "nbformat_minor": 0,
  "metadata": {
    "colab": {
      "name": "Perancangan Fiber To The Building beserta Analisisnya_TUBES SKO_Ilyas Adiyasa .ipynb",
      "provenance": [],
      "collapsed_sections": [],
      "authorship_tag": "ABX9TyPPr0HtVHvD7c71kc7LWDmx",
      "include_colab_link": true
    },
    "kernelspec": {
      "name": "python3",
      "display_name": "Python 3"
    }
  },
  "cells": [
    {
      "cell_type": "markdown",
      "metadata": {
        "id": "view-in-github",
        "colab_type": "text"
      },
      "source": [
        "<a href=\"https://colab.research.google.com/github/Adiyasa26/Python_/blob/main/Perancangan_Fiber_To_The_Building_beserta_Analisisnya_TUBES_SKO_Ilyas_Adiyasa_.ipynb\" target=\"_parent\"><img src=\"https://colab.research.google.com/assets/colab-badge.svg\" alt=\"Open In Colab\"/></a>"
      ]
    },
    {
      "cell_type": "markdown",
      "metadata": {
        "id": "t9zxZMOOIu2S"
      },
      "source": [
        "**NAMA**  : ILYAS ADIYASA\r\n",
        "\r\n",
        "**NIM**   : 1101184270\r\n",
        "\r\n",
        "**KELAS** : TT - 42 - 07\r\n"
      ]
    },
    {
      "cell_type": "markdown",
      "metadata": {
        "id": "AXDNyjYcUTOS"
      },
      "source": [
        "**Skenario Perancangan FTTB**:\r\n",
        "\r\n",
        "Dari **sentral** menuju **ODC** kemudian ke **ODP** kemudian ke **Roset**. Satu gedung berisikan 40 lantai, tiap lantai terdapat 20 kamar. Dengan rencana tersebut kami akan menggunakan **4 konektor** dan **2 spliter**, dengan **spliter 1:64** dengan redaman **19.5 dB** untuk **ONU ke ODP** dan spliter **1:32** dengan redaman **16 dB** untuk **ODP ke Roset**. Kami menggunakan **fiber jenis G652D** dengan panjang gelombang **1490 nm** dengan redaman **0.28 dB/Km**. Selain itu, dengan jumlah konektor terdapat 4 dan splitter 2, maka **splicer ada 6** buah yang memiliki redaman **0.1 db**.\r\n"
      ]
    },
    {
      "cell_type": "markdown",
      "metadata": {
        "id": "TO_A1q846pKI"
      },
      "source": [
        "**Diketahui** : \r\n",
        "\r\n",
        "\r\n",
        "1.   Jenis Fiber = G652D (1490 nm)\r\n",
        "2.   Hambatan Fiber = 0.28  dB/Km \r\n",
        "3.   Jumlah Konektor = 6 buah\r\n",
        "4.   Hambatan Konekor = 0.3 dB\r\n",
        "5.   Jumlah Splitter = 2 (1:64 dan 1:32)\r\n",
        "6.   Hambatan Splitter = 19.5 dB dan 16 dB\r\n",
        "7.   Jumlah Splicer = 8 buah\r\n",
        "8.   Hambatan Splicer = 0.1 dB\r\n",
        "9.   Safety Margin = 6 dB\r\n",
        "10.  Margin = -0.23\r\n",
        "11.  Faktor Gain = 0<F(M)<1 ambil 1\r\n",
        "12.  Suhu Perangkat = 290 K\r\n",
        "13.  Arus Gelap = 200 nA\r\n",
        "14.  Hambatan Ekuivalensi = 50 Ohm\r\n",
        "15.  Responsivitas = 0.85 A/W\r\n",
        "\r\n",
        "\r\n",
        "\r\n"
      ]
    },
    {
      "cell_type": "code",
      "metadata": {
        "id": "mWdCvYZ_yPx0"
      },
      "source": [
        "import math as m\r\n",
        "import matplotlib.pyplot as plt\r\n",
        "import numpy as np"
      ],
      "execution_count": null,
      "outputs": []
    },
    {
      "cell_type": "code",
      "metadata": {
        "id": "SOBAsgxqoz0t"
      },
      "source": [
        "#Converter\r\n",
        "NtL = lambda x : 10 * np.log10(x)\r\n",
        "LtN = lambda x : 10**(x/10)\r\n",
        "\r\n",
        "#Parameter SNR\r\n",
        "R = 0.85 #Responsivitas (A/W)\r\n",
        "SM = 3 #Safety Margin (dB)\r\n",
        "M = -0.23 #Tambahan daya sinyal APD (dB)\r\n",
        "q = 1.6*10**-19\r\n",
        "id = 200*10**-9 #arus gelap (A)\r\n",
        "B = 8*10**9 #Bandwith (Hz)\r\n",
        "F = 1 #F(M), Faktor Gain\r\n",
        "K = 1.38*10**-23\r\n",
        "Teff = 290 #Kelvin\r\n",
        "RL = 50 #Ekuivalen Resistansi (Ohm)\r\n",
        "\r\n",
        "#Parameter Pr\r\n",
        "#jarak dari sentral ke ONU = 17 km\r\n",
        "#jarak dari ONU ke Roset = <500 m --> Jarak ONU ke ODP = 4*29 = 116 m, Jarak ODP ke Roset terjauh = 4*20 = 80, Jarak ONU ke roset = 116 + 80 = 196 \r\n",
        "#jarak total = 17000 + 116 = 17116 m\r\n",
        "\r\n",
        "d = np.arange(0.197,17.197,0.5) #Jarak (km)\r\n",
        "L_fiber = 0.28 #0.28 #Loss dari fiber berdasarkan jenis G625D (dB)  \r\n",
        "N_splicer = 6 #Jumlah Splicer\r\n",
        "L_splicer = 0.1 #Loss dari splicer (db)\r\n",
        "N_connector = 4 #Jumlah Konektor\r\n",
        "L_connector = 0.3 #Loss dari konektor (dB)\r\n",
        "L_splitter = 16 + 19.5 #loss dari splitter (dB) diambil redaman yang paling kecil, milik 1:32\r\n",
        "Pt = 3 #Daya tx (dBm)"
      ],
      "execution_count": null,
      "outputs": []
    },
    {
      "cell_type": "code",
      "metadata": {
        "id": "lX_KgmO0XXsf",
        "colab": {
          "base_uri": "https://localhost:8080/"
        },
        "outputId": "698dbf24-5a8b-4647-b225-c11ecfee756f"
      },
      "source": [
        "#RUMUS PR\r\n",
        "def P_receive():\r\n",
        "  #Pr,Pt (dBm)\r\n",
        "  #L_fiber,N_splitter,L_splicer,N_connector,L_connector,L_splitter (dB)\r\n",
        "\r\n",
        "  hambatan_fiber = d * L_fiber\r\n",
        "  hambatan_splicer = N_splicer * L_splicer\r\n",
        "  hambatan_connector = N_connector * L_connector\r\n",
        "\r\n",
        "  alfa_total = hambatan_fiber + hambatan_splicer + hambatan_connector + L_splitter + SM\r\n",
        "  Pr = Pt - alfa_total\r\n",
        "  return Pr,alfa_total\r\n",
        "Pr,alfa_total = P_receive()\r\n",
        "print('Hambatan Total = ', alfa_total)\r\n",
        "print('\\nDaya Terima = ', Pr)"
      ],
      "execution_count": null,
      "outputs": [
        {
          "output_type": "stream",
          "text": [
            "Hambatan Total =  [40.35516 40.49516 40.63516 40.77516 40.91516 41.05516 41.19516 41.33516\n",
            " 41.47516 41.61516 41.75516 41.89516 42.03516 42.17516 42.31516 42.45516\n",
            " 42.59516 42.73516 42.87516 43.01516 43.15516 43.29516 43.43516 43.57516\n",
            " 43.71516 43.85516 43.99516 44.13516 44.27516 44.41516 44.55516 44.69516\n",
            " 44.83516 44.97516]\n",
            "\n",
            "Daya Terima =  [-37.35516 -37.49516 -37.63516 -37.77516 -37.91516 -38.05516 -38.19516\n",
            " -38.33516 -38.47516 -38.61516 -38.75516 -38.89516 -39.03516 -39.17516\n",
            " -39.31516 -39.45516 -39.59516 -39.73516 -39.87516 -40.01516 -40.15516\n",
            " -40.29516 -40.43516 -40.57516 -40.71516 -40.85516 -40.99516 -41.13516\n",
            " -41.27516 -41.41516 -41.55516 -41.69516 -41.83516 -41.97516]\n"
          ],
          "name": "stdout"
        }
      ]
    },
    {
      "cell_type": "code",
      "metadata": {
        "colab": {
          "base_uri": "https://localhost:8080/"
        },
        "id": "5kePr7TTHL7Q",
        "outputId": "a5e1ef17-b78b-4e8f-cf11-e87e73daa05e"
      },
      "source": [
        "#Signal Power\r\n",
        "def signal_power():\r\n",
        "  Pr_num = LtN(Pr)\r\n",
        "  ip = Pr_num * R\r\n",
        "  Is_kuadrat = (ip*M)**2\r\n",
        "  return ip,Is_kuadrat\r\n",
        "ip,Is_kuadrat = signal_power()\r\n",
        "print('Arus Primer = ', ip)\r\n",
        "print('\\nIs^2 = ', Is_kuadrat)"
      ],
      "execution_count": null,
      "outputs": [
        {
          "output_type": "stream",
          "text": [
            "Arus Primer =  [1.56279828e-04 1.51322297e-04 1.46522030e-04 1.41874037e-04\n",
            " 1.37373488e-04 1.33015707e-04 1.28796163e-04 1.24710473e-04\n",
            " 1.20754389e-04 1.16923801e-04 1.13214728e-04 1.09623314e-04\n",
            " 1.06145827e-04 1.02778654e-04 9.95182947e-05 9.63613611e-05\n",
            " 9.33045721e-05 9.03447511e-05 8.74788219e-05 8.47038062e-05\n",
            " 8.20168198e-05 7.94150705e-05 7.68958542e-05 7.44565529e-05\n",
            " 7.20946314e-05 6.98076351e-05 6.75931873e-05 6.54489865e-05\n",
            " 6.33728043e-05 6.13624831e-05 5.94159336e-05 5.75311328e-05\n",
            " 5.57061220e-05 5.39390044e-05]\n",
            "\n",
            "Is^2 =  [1.29199705e-09 1.21132735e-09 1.13569450e-09 1.06478402e-09\n",
            " 9.98301040e-10 9.35969126e-10 8.77529093e-10 8.22737937e-10\n",
            " 7.71367832e-10 7.23205172e-10 6.78049693e-10 6.35713631e-10\n",
            " 5.96020947e-10 5.58806596e-10 5.23915833e-10 4.91203580e-10\n",
            " 4.60533814e-10 4.31779007e-10 4.04819593e-10 3.79543470e-10\n",
            " 3.55845537e-10 3.33627256e-10 3.12796240e-10 2.93265870e-10\n",
            " 2.74954938e-10 2.57787303e-10 2.41691581e-10 2.26600844e-10\n",
            " 2.12452342e-10 1.99187244e-10 1.86750393e-10 1.75090073e-10\n",
            " 1.64157800e-10 1.53908117e-10]\n"
          ],
          "name": "stdout"
        }
      ]
    },
    {
      "cell_type": "code",
      "metadata": {
        "colab": {
          "base_uri": "https://localhost:8080/"
        },
        "id": "5JPX84LIuuQe",
        "outputId": "7fd29a90-63d3-4ea1-d853-3b9bbd727a44"
      },
      "source": [
        "#RUMUS SNR\r\n",
        "def SNR():\r\n",
        "  #PARAMETER PELENGKAP RUMUS NOISE\r\n",
        "  BDC = 2*q*id*B*(M**2)*F #Dark Current (Numerik)\r\n",
        "  SN = 2*q*ip*B*(M**2)*F #Shot Noise (Numerik)\r\n",
        "  NT = (4*K*Teff*B)/RL #Noise Thermal (Numerik)\r\n",
        "\r\n",
        "  #PARAMETER RUMUS\r\n",
        "  Signal = Is_kuadrat # (Numerik)\r\n",
        "  Noise = BDC + SN + NT # (Numerik)\r\n",
        "\r\n",
        "  #RUMUS SNR\r\n",
        "  SNR = Signal / Noise\r\n",
        "  SNR_dBm = NtL(SNR)\r\n",
        "  \r\n",
        "  return SNR, SNR_dBm\r\n",
        "\r\n",
        "SNR, SNR_dBm = SNR()\r\n",
        "print('SNR dalam numerik = ', SNR)\r\n",
        "print('\\nSNR dalam logaritmik = ', SNR_dBm)"
      ],
      "execution_count": null,
      "outputs": [
        {
          "output_type": "stream",
          "text": [
            "SNR dalam numerik =  [500.29486955 469.17943519 439.99559938 412.62378132 386.95177305\n",
            " 362.87428752 340.2925343  319.11382097 299.25117877 280.62301107\n",
            " 263.15276322 246.76861259 231.40317746 216.99324373 203.47950831\n",
            " 190.80633821 178.92154439 167.77616942 157.32428817 147.52282076\n",
            " 138.33135688 129.71199101 121.6291677  114.04953634 106.94181491\n",
            " 100.27666205  94.02655709  88.16568735  82.66984248  77.51631525\n",
            "  72.68380852  68.15234784  63.90319958  59.91879399]\n",
            "\n",
            "SNR dalam logaritmik =  [26.99226049 26.71338968 26.43448333 26.15554255 25.87656841 25.59756196\n",
            " 25.31852421 25.03945614 24.7603587  24.4812328  24.20207935 23.92289919\n",
            " 23.64369318 23.36446212 23.0852068  22.80592797 22.52662638 22.24730275\n",
            " 21.96795775 21.68859208 21.40920637 21.12980126 20.85037735 20.57093524\n",
            " 20.2914755  20.01199869 19.73250534 19.45299598 19.1734711  18.8939312\n",
            " 18.61437676 18.33480822 18.05522603 17.77563064]\n"
          ],
          "name": "stdout"
        }
      ]
    },
    {
      "cell_type": "code",
      "metadata": {
        "colab": {
          "base_uri": "https://localhost:8080/"
        },
        "id": "e5GmrTG-0ytQ",
        "outputId": "bf52d2cd-97cb-499b-fb89-4917e622c68a"
      },
      "source": [
        "#RUMUS Q\r\n",
        "def Q_rumus():\r\n",
        "  Q_rumus = (0.5*10**(SNR_dBm/20)) #penurunan rumus SNR\r\n",
        "  return Q_rumus\r\n",
        "Q = Q_rumus()\r\n",
        "print('Q factor = ', Q)"
      ],
      "execution_count": null,
      "outputs": [
        {
          "output_type": "stream",
          "text": [
            "Q factor =  [11.18363614 10.8302751  10.48803603 10.15657153  9.83554489  9.52462975\n",
            "  9.22350983  8.9318786   8.64943898  8.3759031   8.11099197  7.85443525\n",
            "  7.60597097  7.36534527  7.13231218  6.90663337  6.68807791  6.47642203\n",
            "  6.27144896  6.07294864  5.88071758  5.69455861  5.51428073  5.33969888\n",
            "  5.17063378  5.00691177  4.8483646   4.69482927  4.54614789  4.40216751\n",
            "  4.26273998  4.12772176  3.99697384  3.87036155]\n"
          ],
          "name": "stdout"
        }
      ]
    },
    {
      "cell_type": "code",
      "metadata": {
        "colab": {
          "base_uri": "https://localhost:8080/"
        },
        "id": "0sxkQzTx00Wo",
        "outputId": "33e6def5-477d-4bda-859c-b882a8cfab79"
      },
      "source": [
        "#RUMUS BER\r\n",
        "pengkali_list = []\r\n",
        "def BER_rumus():\r\n",
        "  #PARAMETER PELENGKAP RUMUS BER\r\n",
        "  akar = 1/(Q * m.sqrt(2 * m.pi))\r\n",
        "\r\n",
        "  #PERULANGAN YANG DIGUNAKAN UNTUK KALKULASI Q PASA LIBRARY MATH\r\n",
        "  for i in range(len(Q)):\r\n",
        "    pengkali = m.exp(-(Q[i]**2)/2)\r\n",
        "    pengkali_list.append(pengkali)\r\n",
        "  #RUMUS BER\r\n",
        "  BER = (1/akar)*(pengkali_list)\r\n",
        "\r\n",
        "  return BER\r\n",
        "  \r\n",
        "BER = BER_rumus()\r\n",
        "print('BER = ', BER)"
      ],
      "execution_count": null,
      "outputs": [
        {
          "output_type": "stream",
          "text": [
            "BER =  [1.94204960e-26 9.19336402e-25 3.41842846e-23 1.01346359e-21\n",
            " 2.42946633e-20 4.77145080e-19 7.77302231e-18 1.06257918e-16\n",
            " 1.23221337e-15 1.22459767e-14 1.05302768e-13 7.90540372e-13\n",
            " 5.22521559e-12 3.06486958e-11 1.60718853e-10 7.58732806e-10\n",
            " 3.24572208e-09 1.26587844e-08 4.52714128e-08 1.49260938e-07\n",
            " 4.55986659e-07 1.29687990e-06 3.44920701e-06 8.61432323e-06\n",
            " 2.02816695e-05 4.51814068e-05 9.55615848e-05 1.92519976e-04\n",
            " 3.70553946e-04 6.83349691e-04 1.21061669e-03 2.06550749e-03\n",
            " 3.40189082e-03 5.42052399e-03]\n"
          ],
          "name": "stdout"
        }
      ]
    },
    {
      "cell_type": "code",
      "metadata": {
        "id": "kclsPHLb9OqG",
        "colab": {
          "base_uri": "https://localhost:8080/",
          "height": 1000
        },
        "outputId": "397e02bb-707f-4d97-828a-3d757a8272ca"
      },
      "source": [
        "#GRAFIK\r\n",
        "\r\n",
        "#GRAFIK PERBANDINGAN JARAK DENGAN SNR\r\n",
        "def grafik_1():\r\n",
        "  plt.figure()\r\n",
        "  plt.plot(d,SNR_dBm,'r')\r\n",
        "  plt.title('Perbandingan Jarak dengan SNR')\r\n",
        "  plt.xlabel('Jarak (Km)')\r\n",
        "  plt.ylabel('SNR (dB)')\r\n",
        "  plt.show()\r\n",
        "\r\n",
        "#GRAFIK PERBANDINGAN JARAK DENGAN Q-FACTOR\r\n",
        "def grafik_2():\r\n",
        "  plt.figure()\r\n",
        "  plt.plot(d,Q,'g')\r\n",
        "  plt.title('Perbandingan Jarak dengan Q')\r\n",
        "  plt.xlabel('Jarak (Km)')\r\n",
        "  plt.ylabel('Q')\r\n",
        "  plt.show()\r\n",
        "\r\n",
        "#GRAFIK PERBANDINGAN ANTARA JARAK DENGAN BER\r\n",
        "def grafik_3():\r\n",
        "  plt.figure()\r\n",
        "  plt.plot(d,BER,'b')\r\n",
        "  plt.title('Perbandingan Jarak dengan BER')\r\n",
        "  plt.xlabel('Jarak (Km)')\r\n",
        "  plt.ylabel('BER')\r\n",
        "  plt.show()\r\n",
        "\r\n",
        "#GRAFIK PERBANDINGAN ANTARA SNR DENGAN BER\r\n",
        "def grafik_4():\r\n",
        "  plt.figure()\r\n",
        "  plt.plot(SNR_dBm,BER,'b')\r\n",
        "  plt.title('Perbandingan SNR dengan BER')\r\n",
        "  plt.xlabel('SNR (dB)')\r\n",
        "  plt.ylabel('BER')\r\n",
        "  plt.show()\r\n",
        "\r\n",
        "grafik_1()\r\n",
        "grafik_2()\r\n",
        "grafik_3()\r\n",
        "grafik_4()"
      ],
      "execution_count": null,
      "outputs": [
        {
          "output_type": "display_data",
          "data": {
            "image/png": "[encoded data removed]",
            "text/plain": [
              "<Figure size 432x288 with 1 Axes>"
            ]
          },
          "metadata": {
            "tags": [],
            "needs_background": "light"
          }
        },
        {
          "output_type": "display_data",
          "data": {
            "image/png": "[encoded data removed]",
            "text/plain": [
              "<Figure size 432x288 with 1 Axes>"
            ]
          },
          "metadata": {
            "tags": [],
            "needs_background": "light"
          }
        },
        {
          "output_type": "display_data",
          "data": {
            "image/png": "[encoded data removed]",
            "text/plain": [
              "<Figure size 432x288 with 1 Axes>"
            ]
          },
          "metadata": {
            "tags": [],
            "needs_background": "light"
          }
        },
        {
          "output_type": "display_data",
          "data": {
            "image/png": "[encoded data removed]",
            "text/plain": [
              "<Figure size 432x288 with 1 Axes>"
            ]
          },
          "metadata": {
            "tags": [],
            "needs_background": "light"
          }
        }
      ]
    },
    {
      "cell_type": "markdown",
      "metadata": {
        "id": "ABwrj-K5Xaxu"
      },
      "source": [
        "**KESIMPULAN:**\r\n",
        "\r\n",
        "\r\n",
        "Dari analisa grafik diatas, saya dapat menyimpulkan bahwa semakin banyak konektor, splitter, dan splicer serta pemilihan jenis fibernya akan mempengaruhi besar hambatan total, dan itu akan mempengaruhi daya terima. Dari daya terima yang dihasilkan kita dapat melihat hasil SNR, semakin jauh jarak maka semakin kecil daya terima, maka dari itu SNR juga makin kecil. Bila SNR makin kecil Q factor juga akan makin kecil. Bila Q-factor makin kecil akan mempengaruhi *Bit Error Rate*. Dari grafik yang di dapat dapat dilihat pada jarak 12.5 sampai 17.5 terjadi kenaikan BER yang signifikan secara eksponensial. Kemudian, pada grafik terakhir, perbandingan SNR dengan BER terjadi grafik yang turun secara eksponensial, terjadi penurunan yang signifikan pada SNR 16++ hingga 18 dB kemudian terlihat stabil pada 19 dB hingga 24++ dB."
      ]
    }
  ]
}