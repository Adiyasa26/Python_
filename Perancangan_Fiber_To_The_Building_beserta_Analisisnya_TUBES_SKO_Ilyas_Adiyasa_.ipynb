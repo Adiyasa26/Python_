{
  "nbformat": 4,
  "nbformat_minor": 0,
  "metadata": {
    "colab": {
      "name": "Perancangan Fiber To The Building beserta Analisisnya_TUBES SKO_Ilyas Adiyasa .ipynb",
      "provenance": [],
      "collapsed_sections": [],
      "authorship_tag": "ABX9TyNzYSCN0UeHgAae0CBQj97M",
      "include_colab_link": true
    },
    "kernelspec": {
      "name": "python3",
      "display_name": "Python 3"
    }
  },
  "cells": [
    {
      "cell_type": "markdown",
      "metadata": {
        "id": "view-in-github",
        "colab_type": "text"
      },
      "source": [
        "<a href=\"https://colab.research.google.com/github/Adiyasa26/Python_/blob/main/Perancangan_Fiber_To_The_Building_beserta_Analisisnya_TUBES_SKO_Ilyas_Adiyasa_.ipynb\" target=\"_parent\"><img src=\"https://colab.research.google.com/assets/colab-badge.svg\" alt=\"Open In Colab\"/></a>"
      ]
    },
    {
      "cell_type": "markdown",
      "metadata": {
        "id": "t9zxZMOOIu2S"
      },
      "source": [
        "**NAMA**  : ILYAS ADIYASA\r\n",
        "\r\n",
        "**NIM**   : 1101184270\r\n",
        "\r\n",
        "**KELAS** : TT - 42 - 07\r\n"
      ]
    },
    {
      "cell_type": "markdown",
      "metadata": {
        "id": "AXDNyjYcUTOS"
      },
      "source": [
        "**Skenario Perancangan FTTB**:\r\n",
        "\r\n",
        "Dari **sentral** menuju **ODC** kemudian ke **ONU** kemudian ke **ODP** kemudian ke **Roset**. Satu gedung berisikan 40 lantai, tiap lantai terdapat 20 kamar. Dengan rencana tersebut kami akan menggunakan **6 konektor** dan **2 spliter**, dengan **spliter 1:64** dengan redaman **19.5 dB** untuk **ONU ke ODP** dan spliter **1:32** dengan redaman **16 dB** untuk **ODP ke Roset**. Kami menggunakan **fiber jenis G652D** dengan panjang gelombang **1490 nm** dengan redaman **0.28 dB/Km**. Selain itu, dengan jumlah konektor terdapat 6 dan splitter 2, maka **splicer ada 8** buah yang memiliki redaman **0.1 db**.\r\n"
      ]
    },
    {
      "cell_type": "markdown",
      "metadata": {
        "id": "TO_A1q846pKI"
      },
      "source": [
        "**Diketahui** : \r\n",
        "\r\n",
        "\r\n",
        "1.   Jenis Fiber = G652D (1490 nm)\r\n",
        "2.   Hambatan Fiber = 0.28  dB/Km \r\n",
        "3.   Jumlah Konektor = 6 buah\r\n",
        "4.   Hambatan Konekor = 0.3 dB\r\n",
        "5.   Jumlah Splitter = 2 (1:64 dan 1:32)\r\n",
        "6.   Hambatan Splitter = 19.5 dB dan 16 dB\r\n",
        "7.   Jumlah Splicer = 8 buah\r\n",
        "8.   Hambatan Splicer = 0.1 dB\r\n",
        "9.   Safety Margin = 6 dB\r\n",
        "10.  Margin = -0.23\r\n",
        "11.  Faktor Gain = 0<F(M)<1 ambil 1\r\n",
        "12.  Suhu Perangkat = 290 K\r\n",
        "13.  Arus Gelap = 200 nA\r\n",
        "14.  Hambatan Ekuivalensi = 50 Ohm\r\n",
        "15.  Responsivitas = 0.85 A/W\r\n",
        "\r\n",
        "\r\n",
        "\r\n"
      ]
    },
    {
      "cell_type": "code",
      "metadata": {
        "id": "mWdCvYZ_yPx0"
      },
      "source": [
        "import math as m\r\n",
        "import matplotlib.pyplot as plt\r\n",
        "import numpy as np"
      ],
      "execution_count": 107,
      "outputs": []
    },
    {
      "cell_type": "code",
      "metadata": {
        "id": "SOBAsgxqoz0t"
      },
      "source": [
        "#Converter\r\n",
        "NtL = lambda x : 10 * np.log10(x)\r\n",
        "LtN = lambda x : 10**(x/10)\r\n",
        "\r\n",
        "#Parameter SNR\r\n",
        "R = 0.85 #Responsivitas (A/W)\r\n",
        "SM = 3 #Safety Margin (dB)\r\n",
        "M = -0.23 #Tambahan daya sinyal APD (dB)\r\n",
        "q = 1.6*10**-19\r\n",
        "id = 200*10**-9 #arus gelap (A)\r\n",
        "B = 8*10**9 #Bandwith (Hz)\r\n",
        "F = 1 #F(M), Faktor Gain\r\n",
        "K = 1.38*10**-23\r\n",
        "Teff = 290 #Kelvin\r\n",
        "RL = 50 #Ekuivalen Resistansi (Ohm)\r\n",
        "\r\n",
        "#Parameter Pr\r\n",
        "#jarak dari sentral ke ONU = 17 km\r\n",
        "#jarak dari ONU ke Roset = <500 m --> Jarak ONU ke ODP = 4*29 = 116 m, Jarak ODP ke Roset terjauh = 4*20 = 80, Jarak ONU ke roset = 116 + 80 = 196 \r\n",
        "#jarak total = 17000 + 116 = 17116 m\r\n",
        "\r\n",
        "d = np.arange(0.197,17.197,0.5) #Jarak (km)\r\n",
        "L_fiber = 0.28 #0.28 #Loss dari fiber berdasarkan jenis G625D (dB)  \r\n",
        "N_splicer = 8 #Jumlah Splicer\r\n",
        "L_splicer = 0.1 #Loss dari splicer (db)\r\n",
        "N_connector = 6 #Jumlah Konektor\r\n",
        "L_connector = 0.3 #Loss dari konektor (dB)\r\n",
        "L_splitter = 16 + 19.5 #loss dari splitter (dB) diambil redaman yang paling kecil, milik 1:32\r\n",
        "Pt = 3 #Daya tx (dBm)"
      ],
      "execution_count": 108,
      "outputs": []
    },
    {
      "cell_type": "code",
      "metadata": {
        "id": "lX_KgmO0XXsf",
        "colab": {
          "base_uri": "https://localhost:8080/"
        },
        "outputId": "ca850a36-12d6-48f4-c384-fd3e3e63ce15"
      },
      "source": [
        "#RUMUS PR\r\n",
        "def P_receive():\r\n",
        "  #Pr,Pt (dBm)\r\n",
        "  #L_fiber,N_splitter,L_splicer,N_connector,L_connector,L_splitter (dB)\r\n",
        "\r\n",
        "  hambatan_fiber = d * L_fiber\r\n",
        "  hambatan_splicer = N_splicer * L_splicer\r\n",
        "  hambatan_connector = N_connector * L_connector\r\n",
        "\r\n",
        "  alfa_total = hambatan_fiber + hambatan_splicer + hambatan_connector + L_splitter + SM\r\n",
        "  Pr = Pt - alfa_total\r\n",
        "  return Pr,alfa_total\r\n",
        "Pr,alfa_total = P_receive()\r\n",
        "print('Hambatan Total = ', alfa_total)\r\n",
        "print('\\nDaya Terima = ', Pr)"
      ],
      "execution_count": 109,
      "outputs": [
        {
          "output_type": "stream",
          "text": [
            "Hambatan Total =  [41.15516 41.29516 41.43516 41.57516 41.71516 41.85516 41.99516 42.13516\n",
            " 42.27516 42.41516 42.55516 42.69516 42.83516 42.97516 43.11516 43.25516\n",
            " 43.39516 43.53516 43.67516 43.81516 43.95516 44.09516 44.23516 44.37516\n",
            " 44.51516 44.65516 44.79516 44.93516 45.07516 45.21516 45.35516 45.49516\n",
            " 45.63516 45.77516]\n",
            "\n",
            "Daya Terima =  [-38.15516 -38.29516 -38.43516 -38.57516 -38.71516 -38.85516 -38.99516\n",
            " -39.13516 -39.27516 -39.41516 -39.55516 -39.69516 -39.83516 -39.97516\n",
            " -40.11516 -40.25516 -40.39516 -40.53516 -40.67516 -40.81516 -40.95516\n",
            " -41.09516 -41.23516 -41.37516 -41.51516 -41.65516 -41.79516 -41.93516\n",
            " -42.07516 -42.21516 -42.35516 -42.49516 -42.63516 -42.77516]\n"
          ],
          "name": "stdout"
        }
      ]
    },
    {
      "cell_type": "code",
      "metadata": {
        "colab": {
          "base_uri": "https://localhost:8080/"
        },
        "id": "5kePr7TTHL7Q",
        "outputId": "5b560e0e-3b8c-40b8-b4ab-758c760dab0e"
      },
      "source": [
        "#Signal Power\r\n",
        "def signal_power():\r\n",
        "  Pr_num = LtN(Pr)\r\n",
        "  ip = Pr_num * R\r\n",
        "  Is_kuadrat = (ip*M)**2\r\n",
        "  return ip,Is_kuadrat\r\n",
        "ip,Is_kuadrat = signal_power()\r\n",
        "print('Arus Primer = ', ip)\r\n",
        "print('\\nIs^2 = ', Is_kuadrat)"
      ],
      "execution_count": 110,
      "outputs": [
        {
          "output_type": "stream",
          "text": [
            "Arus Primer =  [1.29987899e-04 1.25864405e-04 1.21871716e-04 1.18005684e-04\n",
            " 1.14262291e-04 1.10637646e-04 1.07127982e-04 1.03729653e-04\n",
            " 1.00439126e-04 9.72529818e-05 9.41679087e-05 9.11807008e-05\n",
            " 8.82882535e-05 8.54875608e-05 8.27757121e-05 8.01498891e-05\n",
            " 7.76073628e-05 7.51454909e-05 7.27617148e-05 7.04535572e-05\n",
            " 6.82186194e-05 6.60545785e-05 6.39591857e-05 6.19302632e-05\n",
            " 5.99657025e-05 5.80634619e-05 5.62215644e-05 5.44380958e-05\n",
            " 5.27112027e-05 5.10390904e-05 4.94200210e-05 4.78523120e-05\n",
            " 4.63343341e-05 4.48645097e-05]\n",
            "\n",
            "Is^2 =  [8.93843576e-10 8.38033777e-10 7.85708630e-10 7.36650560e-10\n",
            " 6.90655578e-10 6.47532429e-10 6.07101804e-10 5.69195586e-10\n",
            " 5.33656156e-10 5.00335736e-10 4.69095777e-10 4.39806378e-10\n",
            " 4.12345751e-10 3.86599710e-10 3.62461200e-10 3.39829850e-10\n",
            " 3.18611556e-10 2.98718090e-10 2.80066732e-10 2.62579927e-10\n",
            " 2.46184963e-10 2.30813668e-10 2.16402126e-10 2.02890412e-10\n",
            " 1.90222342e-10 1.78345240e-10 1.67209721e-10 1.56769482e-10\n",
            " 1.46981110e-10 1.37803905e-10 1.29199705e-10 1.21132735e-10\n",
            " 1.13569450e-10 1.06478402e-10]\n"
          ],
          "name": "stdout"
        }
      ]
    },
    {
      "cell_type": "code",
      "metadata": {
        "colab": {
          "base_uri": "https://localhost:8080/"
        },
        "id": "5JPX84LIuuQe",
        "outputId": "7cb35d7e-7d7e-4cf1-b097-e50ea1b5681b"
      },
      "source": [
        "#RUMUS SNR\r\n",
        "def SNR():\r\n",
        "  #PARAMETER PELENGKAP RUMUS NOISE\r\n",
        "  BDC = 2*q*id*B*(M**2)*F #Dark Current (Numerik)\r\n",
        "  SN = 2*q*ip*B*(M**2)*F #Shot Noise (Numerik)\r\n",
        "  NT = (4*K*Teff*B)/RL #Noise Thermal (Numerik)\r\n",
        "\r\n",
        "  #PARAMETER RUMUS\r\n",
        "  Signal = Is_kuadrat # (Numerik)\r\n",
        "  Noise = BDC + SN + NT # (Numerik)\r\n",
        "\r\n",
        "  #RUMUS SNR\r\n",
        "  SNR = Signal / Noise\r\n",
        "  SNR_dBm = NtL(SNR)\r\n",
        "  \r\n",
        "  return SNR_dBm\r\n",
        "\r\n",
        "SNR = SNR()\r\n",
        "print('SNR dalam dBm = ', SNR)"
      ],
      "execution_count": 111,
      "outputs": [
        {
          "output_type": "stream",
          "text": [
            "SNR dalam dBm =  [25.39825242 25.11919291 24.84010377 24.56098591 24.28184024 24.00266763\n",
            " 23.72346892 23.44424493 23.16499646 22.88572427 22.60642912 22.32711171\n",
            " 22.04777275 21.76841292 21.48903286 21.20963323 20.93021463 20.65077767\n",
            " 20.37132291 20.09185092 19.81236224 19.5328574  19.25333691 18.97380125\n",
            " 18.69425091 18.41468635 18.13510803 17.85551636 17.57591178 17.29629468\n",
            " 17.01666548 16.73702454 16.45737224 16.17770893]\n"
          ],
          "name": "stdout"
        }
      ]
    },
    {
      "cell_type": "code",
      "metadata": {
        "colab": {
          "base_uri": "https://localhost:8080/"
        },
        "id": "e5GmrTG-0ytQ",
        "outputId": "8739fb10-821f-4ef4-f698-1b275888574d"
      },
      "source": [
        "#RUMUS Q\r\n",
        "def Q_rumus():\r\n",
        "  Q_rumus = 0.5*(10**(SNR/20)) #penurunan rumus SNR\r\n",
        "  return Q_rumus\r\n",
        "Q = Q_rumus()\r\n",
        "print('Q = ', Q)"
      ],
      "execution_count": 112,
      "outputs": [
        {
          "output_type": "stream",
          "text": [
            "Q =  [9.30856263 9.01425107 8.72921505 8.4531641  8.18581671 7.92690011\n",
            " 7.67614996 7.4333101  7.19813235 6.9703762  6.74980863 6.53620387\n",
            " 6.32934315 6.12901452 5.93501263 5.74713854 5.56519948 5.38900874\n",
            " 5.21838539 5.05315419 4.89314535 4.73819439 4.58814199 4.4428338\n",
            " 4.3021203  4.16585666 4.03390258 3.90612217 3.78238379 3.66255992\n",
            " 3.54652706 3.43416558 3.3253596  3.21999688]\n"
          ],
          "name": "stdout"
        }
      ]
    },
    {
      "cell_type": "code",
      "metadata": {
        "colab": {
          "base_uri": "https://localhost:8080/"
        },
        "id": "0sxkQzTx00Wo",
        "outputId": "1a84ea63-9a85-4a1b-8f98-ce07ebe18e97"
      },
      "source": [
        "#RUMUS BER\r\n",
        "pengkali_list = []\r\n",
        "def BER_rumus():\r\n",
        "  #PARAMETER PELENGKAP RUMUS BER\r\n",
        "  akar = 1/(Q * m.sqrt(2 * m.pi))\r\n",
        "\r\n",
        "  #PERULANGAN YANG DIGUNAKAN UNTUK KALKULASI Q PASA LIBRARY MATH\r\n",
        "  for i in range(len(Q)):\r\n",
        "    pengkali = m.exp(-(Q[i]**2)/2)\r\n",
        "    pengkali_list.append(pengkali)\r\n",
        "  #RUMUS BER\r\n",
        "  BER = (1/akar)*(pengkali_list)\r\n",
        "\r\n",
        "  return BER\r\n",
        "  \r\n",
        "BER = BER_rumus()\r\n",
        "print('BER = ', BER)"
      ],
      "execution_count": 113,
      "outputs": [
        {
          "output_type": "stream",
          "text": [
            "BER =  [3.56703865e-18 5.12090271e-17 6.21756149e-16 6.45118686e-15\n",
            " 5.77613739e-14 4.50385680e-13 3.08465150e-12 1.87066932e-11\n",
            " 1.01212939e-10 4.92038355e-10 2.16357128e-09 8.65883690e-09\n",
            " 3.17251103e-08 1.07000003e-07 3.33914864e-07 9.68846109e-07\n",
            " 2.62546831e-06 6.67322313e-06 1.59724296e-05 3.61355846e-05\n",
            " 7.75442478e-05 1.58358615e-04 3.08709523e-04 5.76142736e-04\n",
            " 1.03218951e-03 1.77968238e-03 2.96015932e-03 4.76045723e-03\n",
            " 7.41744533e-03 1.12198391e-02 1.65061913e-02 2.36584695e-02\n",
            " 3.30910680e-02 4.52355936e-02]\n"
          ],
          "name": "stdout"
        }
      ]
    },
    {
      "cell_type": "code",
      "metadata": {
        "id": "kclsPHLb9OqG",
        "colab": {
          "base_uri": "https://localhost:8080/",
          "height": 851
        },
        "outputId": "34170498-7d66-48d5-eec7-2478a3692ef5"
      },
      "source": [
        "#GRAFIK\r\n",
        "\r\n",
        "#GRAFIK PERBANDINGAN JARAK DENGAN SNR\r\n",
        "def grafik_1():\r\n",
        "  plt.figure()\r\n",
        "  plt.plot(d,SNR,'r')\r\n",
        "  plt.title('Perbandingan Jarak dengan SNR')\r\n",
        "  plt.xlabel('Jarak (Km)')\r\n",
        "  plt.ylabel('SNR (dB)')\r\n",
        "  plt.show()\r\n",
        "\r\n",
        "#GRAFIK PERBANDINGAN JARAK DENGAN Q-FACTOR\r\n",
        "def grafik_2():\r\n",
        "  plt.figure()\r\n",
        "  plt.plot(d,Q,'g')\r\n",
        "  plt.title('Perbandingan Jarak dengan Q')\r\n",
        "  plt.xlabel('Jarak (Km)')\r\n",
        "  plt.ylabel('Q')\r\n",
        "  plt.show()\r\n",
        "\r\n",
        "#GRAFIK PERBANDINGAN ANTARA JARAK DENGAN BER\r\n",
        "def grafik_3():\r\n",
        "  plt.figure()\r\n",
        "  plt.plot(d,BER,'b')\r\n",
        "  plt.title('Perbandingan Jarak dengan BER')\r\n",
        "  plt.xlabel('Jarak (Km)')\r\n",
        "  plt.ylabel('BER')\r\n",
        "  plt.show()\r\n",
        "\r\n",
        "grafik_1()\r\n",
        "grafik_2()\r\n",
        "grafik_3()"
      ],
      "execution_count": 114,
      "outputs": [
        {
          "output_type": "display_data",
          "data": {
            "image/png": "[encoded data removed]",
            "text/plain": [
              "<Figure size 432x288 with 1 Axes>"
            ]
          },
          "metadata": {
            "tags": [],
            "needs_background": "light"
          }
        },
        {
          "output_type": "display_data",
          "data": {
            "image/png": "[encoded data removed]",
            "text/plain": [
              "<Figure size 432x288 with 1 Axes>"
            ]
          },
          "metadata": {
            "tags": [],
            "needs_background": "light"
          }
        },
        {
          "output_type": "display_data",
          "data": {
            "image/png": "[encoded data removed]",
            "text/plain": [
              "<Figure size 432x288 with 1 Axes>"
            ]
          },
          "metadata": {
            "tags": [],
            "needs_background": "light"
          }
        }
      ]
    },
    {
      "cell_type": "markdown",
      "metadata": {
        "id": "ABwrj-K5Xaxu"
      },
      "source": [
        "**KESIMPULAN:**\r\n",
        "\r\n",
        "\r\n",
        "Dari analisa grafik diatas, saya dapat menyimpulkan bahwa semakin banyak konektor, splitter, dan splicer serta pemilihan jenis fibernya akan mempengaruhi besar hambatan total, dan itu akan mempengaruhi daya terima. Dari daya terima yang dihasilkan kita dapat melihat hasil SNR, semakin jauh jarak maka semakin kecil daya terima, maka dari itu SNR juga makin kecil. Bila SNR makin kecil Q factor juga akan makin kecil. Bila Q-factor makin kecil akan mempengaruhi *Bit Error Rate*. Dari grafik yang di dapat dapat dilihat pada jarak 12.5 sampai 17.5 terjadi kenaikan BER yang signifikan secara eksponensial. "
      ]
    },
    {
      "cell_type": "code",
      "metadata": {
        "id": "TGx7-_98Ylrw"
      },
      "source": [
        ""
      ],
      "execution_count": null,
      "outputs": []
    }
  ]
}