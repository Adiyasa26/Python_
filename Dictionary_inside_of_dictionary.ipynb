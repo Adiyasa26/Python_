{
  "nbformat": 4,
  "nbformat_minor": 0,
  "metadata": {
    "colab": {
      "name": "Dictionary inside of dictionary.ipynb",
      "provenance": [],
      "authorship_tag": "ABX9TyOQ7i+vwxqgcbd//y3iJTzG",
      "include_colab_link": true
    },
    "kernelspec": {
      "name": "python3",
      "display_name": "Python 3"
    }
  },
  "cells": [
    {
      "cell_type": "markdown",
      "metadata": {
        "id": "view-in-github",
        "colab_type": "text"
      },
      "source": [
        "<a href=\"https://colab.research.google.com/github/Adiyasa26/Python_/blob/main/Dictionary_inside_of_dictionary.ipynb\" target=\"_parent\"><img src=\"https://colab.research.google.com/assets/colab-badge.svg\" alt=\"Open In Colab\"/></a>"
      ]
    },
    {
      "cell_type": "code",
      "metadata": {
        "id": "Q3TIpZe4GWtT"
      },
      "source": [
        "contoh1 = ['a', 'b', 'c']\r\n",
        "contoh2 = [1,2,3]\r\n",
        "contoh3 = ['ilyas', 'adiyasa', 'siapayak']\r\n",
        "#dict = {a: [1,2,3], b: [1,2,3], c:{ilyas:[1,2,3], adiyasa:[1,2,3], siapayak:[1,2,3]}}"
      ],
      "execution_count": 10,
      "outputs": []
    },
    {
      "cell_type": "code",
      "metadata": {
        "colab": {
          "base_uri": "https://localhost:8080/"
        },
        "id": "Llj3fcplIXA3",
        "outputId": "71234b10-4119-4aee-bce8-b97c1612687d"
      },
      "source": [
        "dict1={}\r\n",
        "dict2={}\r\n",
        "\r\n",
        "for i in range(len(contoh1)):\r\n",
        "  dict1[contoh1[i]]=contoh2\r\n",
        "\r\n",
        "for i in range(len(contoh3)):\r\n",
        "  dict2[contoh3[i]]=contoh2\r\n",
        "dict1['c']=dict2\r\n",
        "      \r\n",
        "print(dict1)\r\n",
        "\r\n"
      ],
      "execution_count": 18,
      "outputs": [
        {
          "output_type": "stream",
          "text": [
            "{'a': [1, 2, 3], 'b': [1, 2, 3], 'c': {'ilyas': [1, 2, 3], 'adiyasa': [1, 2, 3], 'siapayak': [1, 2, 3]}}\n"
          ],
          "name": "stdout"
        }
      ]
    },
    {
      "cell_type": "code",
      "metadata": {
        "id": "laJyWI_kJpyR"
      },
      "source": [
        ""
      ],
      "execution_count": null,
      "outputs": []
    }
  ]
}